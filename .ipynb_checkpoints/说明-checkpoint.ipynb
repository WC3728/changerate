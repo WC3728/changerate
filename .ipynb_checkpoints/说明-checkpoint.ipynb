{
 "cells": [
  {
   "cell_type": "markdown",
   "metadata": {},
   "source": [
    "附表中是连续7天的某游戏产品营销触达用户和营销转化用户信息（表中15位码代表用户的唯一标识，转化用户均来自于触达用户），天与天之间的营销触达用户可能会有重叠，营销转化用户也可能有重叠。试运用相关工具(Python/R等)分析以下问题，要求以数据作为论据：\n",
    "\n",
    "- ①7天中的整体转化率变动情况，推测Day1-7分别是一周中的哪几天（例如Day1-7是从周一到周日，或者Day1-7是从周五到第二周周四等等），并说明理由；\n",
    "- ②第一次接受营销的用户和7天内已接受过营销的用户的转化率情况（注意考虑已接受过营销包括接受过1次、2次等等类推）；\n",
    "\n",
    "- ③基于数据分析结果，尝试对转化率改进提出自己的看法和意见。\n",
    "\n",
    "一列是触达用户，相当于接受到广告的用户 另一列是接受到广告并且点击的用户"
   ]
  },
  {
   "cell_type": "markdown",
   "metadata": {},
   "source": [
    "每个day1都是加上旁边的Untitled1都是一组数据\n",
    "\n",
    "可以再网上查看什么是触达率 和 转换率\n",
    "\n",
    "游戏产业中触达率最高是  千分之2.08"
   ]
  },
  {
   "cell_type": "code",
   "execution_count": 28,
   "metadata": {},
   "outputs": [],
   "source": [
    "import pandas as pd \n",
    "import numpy as np\n",
    "from collections import Counter"
   ]
  },
  {
   "cell_type": "code",
   "execution_count": 29,
   "metadata": {},
   "outputs": [
    {
     "name": "stderr",
     "output_type": "stream",
     "text": [
      "g:\\program files (x86)\\python37\\lib\\site-packages\\IPython\\core\\interactiveshell.py:3146: DtypeWarning: Columns (1,3,5,7,9,11,13) have mixed types.Specify dtype option on import or set low_memory=False.\n",
      "  interactivity=interactivity, compiler=compiler, result=result)\n"
     ]
    }
   ],
   "source": [
    "data = pd.read_csv(\"./转换率计算.csv\",encoding=\"gbk\")"
   ]
  },
  {
   "cell_type": "code",
   "execution_count": 30,
   "metadata": {},
   "outputs": [
    {
     "data": {
      "text/plain": [
       "(88338, 14)"
      ]
     },
     "execution_count": 30,
     "metadata": {},
     "output_type": "execute_result"
    }
   ],
   "source": [
    "data.shape"
   ]
  },
  {
   "cell_type": "code",
   "execution_count": 31,
   "metadata": {},
   "outputs": [
    {
     "data": {
      "text/html": [
       "<div>\n",
       "<style scoped>\n",
       "    .dataframe tbody tr th:only-of-type {\n",
       "        vertical-align: middle;\n",
       "    }\n",
       "\n",
       "    .dataframe tbody tr th {\n",
       "        vertical-align: top;\n",
       "    }\n",
       "\n",
       "    .dataframe thead th {\n",
       "        text-align: right;\n",
       "    }\n",
       "</style>\n",
       "<table border=\"1\" class=\"dataframe\">\n",
       "  <thead>\n",
       "    <tr style=\"text-align: right;\">\n",
       "      <th></th>\n",
       "      <th>营销触达用户清单</th>\n",
       "      <th>营销转化用户清单</th>\n",
       "      <th>营销触达用户清单.1</th>\n",
       "      <th>营销转化用户清单.1</th>\n",
       "      <th>营销触达用户清单.2</th>\n",
       "      <th>营销转化用户清单.2</th>\n",
       "      <th>营销触达用户清单.3</th>\n",
       "      <th>营销转化用户清单.3</th>\n",
       "      <th>营销触达用户清单.4</th>\n",
       "      <th>营销转化用户清单.4</th>\n",
       "      <th>营销触达用户清单.5</th>\n",
       "      <th>营销转化用户清单.5</th>\n",
       "      <th>营销触达用户清单.6</th>\n",
       "      <th>营销转化用户清单.6</th>\n",
       "    </tr>\n",
       "  </thead>\n",
       "  <tbody>\n",
       "    <tr>\n",
       "      <th>0</th>\n",
       "      <td>117375008mat6ls</td>\n",
       "      <td>117378004jjhfss</td>\n",
       "      <td>117374005cnktbw</td>\n",
       "      <td>117376002xsv2gu</td>\n",
       "      <td>11737500bh54l2x</td>\n",
       "      <td>117362001rgb2ax</td>\n",
       "      <td>117371002p1daox</td>\n",
       "      <td>1173700014n8ys</td>\n",
       "      <td>11737100a4h97lw</td>\n",
       "      <td>1173710013vq75u</td>\n",
       "      <td>117367005uky1vu</td>\n",
       "      <td>1173670032jwfqy</td>\n",
       "      <td>117364005uafr9u</td>\n",
       "      <td>11737500d88cffx</td>\n",
       "    </tr>\n",
       "    <tr>\n",
       "      <th>1</th>\n",
       "      <td>117369004a34phu</td>\n",
       "      <td>11736500yeftny</td>\n",
       "      <td>11737700135dyms</td>\n",
       "      <td>117374005b1x6ys</td>\n",
       "      <td>11736700gc4fa4x</td>\n",
       "      <td>11737800ci47gu</td>\n",
       "      <td>117362002so7dbu</td>\n",
       "      <td>117367003ldey1u</td>\n",
       "      <td>11737500do0bynx</td>\n",
       "      <td>11737300bjzp92u</td>\n",
       "      <td>11737800g0xsjrx</td>\n",
       "      <td>11736200bw3f7jx</td>\n",
       "      <td>117371002xlzdws</td>\n",
       "      <td>11736800a935ixx</td>\n",
       "    </tr>\n",
       "    <tr>\n",
       "      <th>2</th>\n",
       "      <td>117366006l2a5ax</td>\n",
       "      <td>11736200fvnnp0s</td>\n",
       "      <td>11737700c4a5h1w</td>\n",
       "      <td>117371003ndu5xx</td>\n",
       "      <td>117366005j4jdcs</td>\n",
       "      <td>11736500ewmc5ju</td>\n",
       "      <td>117370005n0qhku</td>\n",
       "      <td>1173660040r1n5x</td>\n",
       "      <td>117362003i8gplu</td>\n",
       "      <td>11736400dwi8is</td>\n",
       "      <td>11736500aj5mapx</td>\n",
       "      <td>117370001q9mnyu</td>\n",
       "      <td>11737200fnoktwx</td>\n",
       "      <td>11737200etul8qs</td>\n",
       "    </tr>\n",
       "    <tr>\n",
       "      <th>3</th>\n",
       "      <td>11736400alebqhu</td>\n",
       "      <td>117367009kkbwvx</td>\n",
       "      <td>11737200cthmkox</td>\n",
       "      <td>117377005fexg9u</td>\n",
       "      <td>117374004fsvngu</td>\n",
       "      <td>1173760047iytcu</td>\n",
       "      <td>11736900c0jzglx</td>\n",
       "      <td>11736600bhvlzzs</td>\n",
       "      <td>1173620084kb21s</td>\n",
       "      <td>117375006xgk3es</td>\n",
       "      <td>117377003s4d8yx</td>\n",
       "      <td>117370004w5vb5y</td>\n",
       "      <td>11736200acxm0as</td>\n",
       "      <td>117371007f8ze1x</td>\n",
       "    </tr>\n",
       "    <tr>\n",
       "      <th>4</th>\n",
       "      <td>117363003ojm38u</td>\n",
       "      <td>117363008g6xc9u</td>\n",
       "      <td>117363001v34www</td>\n",
       "      <td>117376002ezn1wu</td>\n",
       "      <td>117362008ljwknx</td>\n",
       "      <td>117365004863x8x</td>\n",
       "      <td>117371002lnem1u</td>\n",
       "      <td>11737700b62fpfu</td>\n",
       "      <td>117371001n62lgx</td>\n",
       "      <td>11736700d78zl0x</td>\n",
       "      <td>117362006qvaw2u</td>\n",
       "      <td>11736600f5alnqy</td>\n",
       "      <td>117376009fb2olu</td>\n",
       "      <td>11736500ey41ugu</td>\n",
       "    </tr>\n",
       "  </tbody>\n",
       "</table>\n",
       "</div>"
      ],
      "text/plain": [
       "          营销触达用户清单         营销转化用户清单       营销触达用户清单.1       营销转化用户清单.1  \\\n",
       "0  117375008mat6ls  117378004jjhfss  117374005cnktbw  117376002xsv2gu   \n",
       "1  117369004a34phu   11736500yeftny  11737700135dyms  117374005b1x6ys   \n",
       "2  117366006l2a5ax  11736200fvnnp0s  11737700c4a5h1w  117371003ndu5xx   \n",
       "3  11736400alebqhu  117367009kkbwvx  11737200cthmkox  117377005fexg9u   \n",
       "4  117363003ojm38u  117363008g6xc9u  117363001v34www  117376002ezn1wu   \n",
       "\n",
       "        营销触达用户清单.2       营销转化用户清单.2       营销触达用户清单.3       营销转化用户清单.3  \\\n",
       "0  11737500bh54l2x  117362001rgb2ax  117371002p1daox   1173700014n8ys   \n",
       "1  11736700gc4fa4x   11737800ci47gu  117362002so7dbu  117367003ldey1u   \n",
       "2  117366005j4jdcs  11736500ewmc5ju  117370005n0qhku  1173660040r1n5x   \n",
       "3  117374004fsvngu  1173760047iytcu  11736900c0jzglx  11736600bhvlzzs   \n",
       "4  117362008ljwknx  117365004863x8x  117371002lnem1u  11737700b62fpfu   \n",
       "\n",
       "        营销触达用户清单.4       营销转化用户清单.4       营销触达用户清单.5       营销转化用户清单.5  \\\n",
       "0  11737100a4h97lw  1173710013vq75u  117367005uky1vu  1173670032jwfqy   \n",
       "1  11737500do0bynx  11737300bjzp92u  11737800g0xsjrx  11736200bw3f7jx   \n",
       "2  117362003i8gplu   11736400dwi8is  11736500aj5mapx  117370001q9mnyu   \n",
       "3  1173620084kb21s  117375006xgk3es  117377003s4d8yx  117370004w5vb5y   \n",
       "4  117371001n62lgx  11736700d78zl0x  117362006qvaw2u  11736600f5alnqy   \n",
       "\n",
       "        营销触达用户清单.6       营销转化用户清单.6  \n",
       "0  117364005uafr9u  11737500d88cffx  \n",
       "1  117371002xlzdws  11736800a935ixx  \n",
       "2  11737200fnoktwx  11737200etul8qs  \n",
       "3  11736200acxm0as  117371007f8ze1x  \n",
       "4  117376009fb2olu  11736500ey41ugu  "
      ]
     },
     "execution_count": 31,
     "metadata": {},
     "output_type": "execute_result"
    }
   ],
   "source": [
    "data.head()"
   ]
  },
  {
   "cell_type": "code",
   "execution_count": 32,
   "metadata": {},
   "outputs": [],
   "source": [
    "data1 = data.iloc[:,:2]\n",
    "data2 = data.iloc[:,2:4]\n",
    "data3 = data.iloc[:,4:6]\n",
    "data4 = data.iloc[:,6:8]\n",
    "data5 = data.iloc[:,8:10]\n",
    "data6 = data.iloc[:,10:12]\n",
    "data7 = data.iloc[:,12:14]"
   ]
  },
  {
   "cell_type": "code",
   "execution_count": 33,
   "metadata": {
    "collapsed": true
   },
   "outputs": [
    {
     "name": "stderr",
     "output_type": "stream",
     "text": [
      "g:\\program files (x86)\\python37\\lib\\site-packages\\ipykernel_launcher.py:1: SettingWithCopyWarning: \n",
      "A value is trying to be set on a copy of a slice from a DataFrame.\n",
      "Try using .loc[row_indexer,col_indexer] = value instead\n",
      "\n",
      "See the caveats in the documentation: https://pandas.pydata.org/pandas-docs/stable/user_guide/indexing.html#returning-a-view-versus-a-copy\n",
      "  \"\"\"Entry point for launching an IPython kernel.\n",
      "g:\\program files (x86)\\python37\\lib\\site-packages\\ipykernel_launcher.py:2: SettingWithCopyWarning: \n",
      "A value is trying to be set on a copy of a slice from a DataFrame.\n",
      "Try using .loc[row_indexer,col_indexer] = value instead\n",
      "\n",
      "See the caveats in the documentation: https://pandas.pydata.org/pandas-docs/stable/user_guide/indexing.html#returning-a-view-versus-a-copy\n",
      "  \n",
      "g:\\program files (x86)\\python37\\lib\\site-packages\\ipykernel_launcher.py:3: SettingWithCopyWarning: \n",
      "A value is trying to be set on a copy of a slice from a DataFrame.\n",
      "Try using .loc[row_indexer,col_indexer] = value instead\n",
      "\n",
      "See the caveats in the documentation: https://pandas.pydata.org/pandas-docs/stable/user_guide/indexing.html#returning-a-view-versus-a-copy\n",
      "  This is separate from the ipykernel package so we can avoid doing imports until\n",
      "g:\\program files (x86)\\python37\\lib\\site-packages\\ipykernel_launcher.py:4: SettingWithCopyWarning: \n",
      "A value is trying to be set on a copy of a slice from a DataFrame.\n",
      "Try using .loc[row_indexer,col_indexer] = value instead\n",
      "\n",
      "See the caveats in the documentation: https://pandas.pydata.org/pandas-docs/stable/user_guide/indexing.html#returning-a-view-versus-a-copy\n",
      "  after removing the cwd from sys.path.\n",
      "g:\\program files (x86)\\python37\\lib\\site-packages\\ipykernel_launcher.py:5: SettingWithCopyWarning: \n",
      "A value is trying to be set on a copy of a slice from a DataFrame.\n",
      "Try using .loc[row_indexer,col_indexer] = value instead\n",
      "\n",
      "See the caveats in the documentation: https://pandas.pydata.org/pandas-docs/stable/user_guide/indexing.html#returning-a-view-versus-a-copy\n",
      "  \"\"\"\n",
      "g:\\program files (x86)\\python37\\lib\\site-packages\\ipykernel_launcher.py:6: SettingWithCopyWarning: \n",
      "A value is trying to be set on a copy of a slice from a DataFrame.\n",
      "Try using .loc[row_indexer,col_indexer] = value instead\n",
      "\n",
      "See the caveats in the documentation: https://pandas.pydata.org/pandas-docs/stable/user_guide/indexing.html#returning-a-view-versus-a-copy\n",
      "  \n",
      "g:\\program files (x86)\\python37\\lib\\site-packages\\ipykernel_launcher.py:7: SettingWithCopyWarning: \n",
      "A value is trying to be set on a copy of a slice from a DataFrame.\n",
      "Try using .loc[row_indexer,col_indexer] = value instead\n",
      "\n",
      "See the caveats in the documentation: https://pandas.pydata.org/pandas-docs/stable/user_guide/indexing.html#returning-a-view-versus-a-copy\n",
      "  import sys\n"
     ]
    }
   ],
   "source": [
    "data1['day'] = 1\n",
    "data2['day'] = 2\n",
    "data3['day'] = 3\n",
    "data4['day'] = 4\n",
    "data5['day'] = 5\n",
    "data6['day'] = 6\n",
    "data7['day'] = 7"
   ]
  },
  {
   "cell_type": "code",
   "execution_count": 34,
   "metadata": {},
   "outputs": [],
   "source": [
    "data2.columns = ['营销触达用户清单', '营销转化用户清单', 'day']\n",
    "data3.columns = ['营销触达用户清单', '营销转化用户清单', 'day']\n",
    "data4.columns = ['营销触达用户清单', '营销转化用户清单', 'day']\n",
    "data5.columns = ['营销触达用户清单', '营销转化用户清单', 'day']\n",
    "data6.columns = ['营销触达用户清单', '营销转化用户清单', 'day']\n",
    "data7.columns = ['营销触达用户清单', '营销转化用户清单', 'day']"
   ]
  },
  {
   "cell_type": "code",
   "execution_count": 35,
   "metadata": {},
   "outputs": [
    {
     "data": {
      "text/html": [
       "<div>\n",
       "<style scoped>\n",
       "    .dataframe tbody tr th:only-of-type {\n",
       "        vertical-align: middle;\n",
       "    }\n",
       "\n",
       "    .dataframe tbody tr th {\n",
       "        vertical-align: top;\n",
       "    }\n",
       "\n",
       "    .dataframe thead th {\n",
       "        text-align: right;\n",
       "    }\n",
       "</style>\n",
       "<table border=\"1\" class=\"dataframe\">\n",
       "  <thead>\n",
       "    <tr style=\"text-align: right;\">\n",
       "      <th></th>\n",
       "      <th>营销触达用户清单</th>\n",
       "      <th>营销转化用户清单</th>\n",
       "      <th>day</th>\n",
       "    </tr>\n",
       "  </thead>\n",
       "  <tbody>\n",
       "    <tr>\n",
       "      <th>0</th>\n",
       "      <td>117375008mat6ls</td>\n",
       "      <td>117378004jjhfss</td>\n",
       "      <td>1</td>\n",
       "    </tr>\n",
       "    <tr>\n",
       "      <th>1</th>\n",
       "      <td>117369004a34phu</td>\n",
       "      <td>11736500yeftny</td>\n",
       "      <td>1</td>\n",
       "    </tr>\n",
       "    <tr>\n",
       "      <th>2</th>\n",
       "      <td>117366006l2a5ax</td>\n",
       "      <td>11736200fvnnp0s</td>\n",
       "      <td>1</td>\n",
       "    </tr>\n",
       "    <tr>\n",
       "      <th>3</th>\n",
       "      <td>11736400alebqhu</td>\n",
       "      <td>117367009kkbwvx</td>\n",
       "      <td>1</td>\n",
       "    </tr>\n",
       "    <tr>\n",
       "      <th>4</th>\n",
       "      <td>117363003ojm38u</td>\n",
       "      <td>117363008g6xc9u</td>\n",
       "      <td>1</td>\n",
       "    </tr>\n",
       "    <tr>\n",
       "      <th>...</th>\n",
       "      <td>...</td>\n",
       "      <td>...</td>\n",
       "      <td>...</td>\n",
       "    </tr>\n",
       "    <tr>\n",
       "      <th>88333</th>\n",
       "      <td>1173650039jk35u</td>\n",
       "      <td>NaN</td>\n",
       "      <td>7</td>\n",
       "    </tr>\n",
       "    <tr>\n",
       "      <th>88334</th>\n",
       "      <td>117362007mfgsux</td>\n",
       "      <td>NaN</td>\n",
       "      <td>7</td>\n",
       "    </tr>\n",
       "    <tr>\n",
       "      <th>88335</th>\n",
       "      <td>117369009xbmrvs</td>\n",
       "      <td>NaN</td>\n",
       "      <td>7</td>\n",
       "    </tr>\n",
       "    <tr>\n",
       "      <th>88336</th>\n",
       "      <td>NaN</td>\n",
       "      <td>NaN</td>\n",
       "      <td>7</td>\n",
       "    </tr>\n",
       "    <tr>\n",
       "      <th>88337</th>\n",
       "      <td>117369009xbmrvs</td>\n",
       "      <td>NaN</td>\n",
       "      <td>7</td>\n",
       "    </tr>\n",
       "  </tbody>\n",
       "</table>\n",
       "<p>618366 rows × 3 columns</p>\n",
       "</div>"
      ],
      "text/plain": [
       "              营销触达用户清单         营销转化用户清单  day\n",
       "0      117375008mat6ls  117378004jjhfss    1\n",
       "1      117369004a34phu   11736500yeftny    1\n",
       "2      117366006l2a5ax  11736200fvnnp0s    1\n",
       "3      11736400alebqhu  117367009kkbwvx    1\n",
       "4      117363003ojm38u  117363008g6xc9u    1\n",
       "...                ...              ...  ...\n",
       "88333  1173650039jk35u              NaN    7\n",
       "88334  117362007mfgsux              NaN    7\n",
       "88335  117369009xbmrvs              NaN    7\n",
       "88336              NaN              NaN    7\n",
       "88337  117369009xbmrvs              NaN    7\n",
       "\n",
       "[618366 rows x 3 columns]"
      ]
     },
     "execution_count": 35,
     "metadata": {},
     "output_type": "execute_result"
    }
   ],
   "source": [
    "df = pd.concat([data1,data2,data3,data4,data5,data6,data7])\n",
    "df"
   ]
  },
  {
   "cell_type": "code",
   "execution_count": 36,
   "metadata": {},
   "outputs": [],
   "source": [
    "##营销触达用户清单    不能为空缺值\n",
    "df.loc[pd.notna(df['营销触达用户清单'])]\n",
    "ddf = df.copy()\n",
    "#  按营销触达用户清单 进行分组\n",
    "reach_id = Counter(df[\"营销触达用户清单\"])\n",
    "# transform_id = Counter(df[\"营销转化用户清单\"])\n",
    "transform = df[\"营销转化用户清单\"]\n",
    "transform.dropna(inplace=True)\n",
    "transform_id = Counter(transform)"
   ]
  },
  {
   "cell_type": "code",
   "execution_count": 37,
   "metadata": {
    "scrolled": true
   },
   "outputs": [],
   "source": [
    "series_tr = pd.Series(transform_id , name = 'transform')\n",
    "series_re = pd.Series(reach_id , name = \"reach\")"
   ]
  },
  {
   "cell_type": "code",
   "execution_count": 38,
   "metadata": {},
   "outputs": [],
   "source": [
    "series_tr.to_csv(\"tr.csv\")\n",
    "series_re.to_csv(\"re.csv\")"
   ]
  },
  {
   "cell_type": "code",
   "execution_count": 39,
   "metadata": {},
   "outputs": [],
   "source": [
    "df1 = pd.read_csv(\"./re.csv\")\n",
    "df2 = pd.read_csv(\"./tr.csv\")\n",
    "df2.columns = [\"ID\",\"transform\"]\n",
    "df1.columns = [\"ID\" , \"reach\"]"
   ]
  },
  {
   "cell_type": "code",
   "execution_count": 40,
   "metadata": {},
   "outputs": [],
   "source": [
    "df = pd.merge(df1,df2 , how=\"left\")"
   ]
  },
  {
   "cell_type": "code",
   "execution_count": 41,
   "metadata": {},
   "outputs": [],
   "source": [
    "df[\"transform\"].fillna( 0 ,inplace = True)\n",
    "##  df   各个用户的接触 和转化次数"
   ]
  },
  {
   "cell_type": "code",
   "execution_count": 42,
   "metadata": {},
   "outputs": [],
   "source": [
    "#  只接触过一次\n",
    "_one = df[df[\"reach\"] == 1]\n",
    "\n",
    "# 接触不止一次\n",
    "_more = df[df[\"reach\"] != 1]"
   ]
  },
  {
   "cell_type": "code",
   "execution_count": 43,
   "metadata": {},
   "outputs": [
    {
     "data": {
      "text/plain": [
       "0.008070188779680994"
      ]
     },
     "execution_count": 43,
     "metadata": {},
     "output_type": "execute_result"
    }
   ],
   "source": [
    "#  只接触过一次的转换率\n",
    "_one[_one[\"transform\"] != 0][\"transform\"].sum() / len(_one)"
   ]
  },
  {
   "cell_type": "code",
   "execution_count": 44,
   "metadata": {},
   "outputs": [
    {
     "data": {
      "text/plain": [
       "0.028090084820122842"
      ]
     },
     "execution_count": 44,
     "metadata": {},
     "output_type": "execute_result"
    }
   ],
   "source": [
    "# 接触不止一次的转换率\n",
    "_more[_more[\"transform\"] != 0][\"transform\"].sum() / len(_more)"
   ]
  },
  {
   "cell_type": "code",
   "execution_count": 46,
   "metadata": {
    "collapsed": true
   },
   "outputs": [
    {
     "name": "stderr",
     "output_type": "stream",
     "text": [
      "g:\\program files (x86)\\python37\\lib\\site-packages\\ipykernel_launcher.py:2: SettingWithCopyWarning: \n",
      "A value is trying to be set on a copy of a slice from a DataFrame.\n",
      "Try using .loc[row_indexer,col_indexer] = value instead\n",
      "\n",
      "See the caveats in the documentation: https://pandas.pydata.org/pandas-docs/stable/user_guide/indexing.html#returning-a-view-versus-a-copy\n",
      "  \n",
      "g:\\program files (x86)\\python37\\lib\\site-packages\\ipykernel_launcher.py:3: SettingWithCopyWarning: \n",
      "A value is trying to be set on a copy of a slice from a DataFrame.\n",
      "Try using .loc[row_indexer,col_indexer] = value instead\n",
      "\n",
      "See the caveats in the documentation: https://pandas.pydata.org/pandas-docs/stable/user_guide/indexing.html#returning-a-view-versus-a-copy\n",
      "  This is separate from the ipykernel package so we can avoid doing imports until\n"
     ]
    }
   ],
   "source": [
    "#  调整数据类型\n",
    "_more[\"transform\"] = df[\"transform\"].astype(\"int\")\n",
    "_one[\"transform\"] = df[\"transform\"].astype(\"int\")"
   ]
  },
  {
   "cell_type": "code",
   "execution_count": 47,
   "metadata": {},
   "outputs": [
    {
     "data": {
      "text/plain": [
       "0.0306312079461711"
      ]
     },
     "execution_count": 47,
     "metadata": {},
     "output_type": "execute_result"
    }
   ],
   "source": [
    "\n",
    "# _more[_more[\"transform\"] == 1][\"transform\"].sum() \n",
    "df[df[\"reach\"] == 3][\"transform\"].sum() / len(df[df[\"reach\"] == 3])"
   ]
  },
  {
   "cell_type": "code",
   "execution_count": 48,
   "metadata": {},
   "outputs": [],
   "source": [
    "rate = []\n",
    "for i in range(0,7):\n",
    "     rate.append((i +1,df[df[\"reach\"] == i+1][\"transform\"].sum() / len(df[df[\"reach\"] == i+1])))\n",
    "    "
   ]
  },
  {
   "cell_type": "code",
   "execution_count": 49,
   "metadata": {},
   "outputs": [
    {
     "data": {
      "text/plain": [
       "[(1, 0.008070188779680994),\n",
       " (2, 0.02471390309228147),\n",
       " (3, 0.0306312079461711),\n",
       " (4, 0.031585957568261824),\n",
       " (5, 0.02930005425935974),\n",
       " (6, 0.028317547114539595),\n",
       " (7, 0.031085876508161817)]"
      ]
     },
     "execution_count": 49,
     "metadata": {},
     "output_type": "execute_result"
    }
   ],
   "source": [
    "rate"
   ]
  },
  {
   "cell_type": "code",
   "execution_count": 50,
   "metadata": {},
   "outputs": [],
   "source": [
    "#  推送次数和转换率之间的关系\n",
    "rate_df = pd.DataFrame(rate , columns= [\"触达次数\" , \"转换率\"])"
   ]
  },
  {
   "cell_type": "code",
   "execution_count": 51,
   "metadata": {},
   "outputs": [
    {
     "data": {
      "text/html": [
       "<div>\n",
       "<style scoped>\n",
       "    .dataframe tbody tr th:only-of-type {\n",
       "        vertical-align: middle;\n",
       "    }\n",
       "\n",
       "    .dataframe tbody tr th {\n",
       "        vertical-align: top;\n",
       "    }\n",
       "\n",
       "    .dataframe thead th {\n",
       "        text-align: right;\n",
       "    }\n",
       "</style>\n",
       "<table border=\"1\" class=\"dataframe\">\n",
       "  <thead>\n",
       "    <tr style=\"text-align: right;\">\n",
       "      <th></th>\n",
       "      <th>触达次数</th>\n",
       "      <th>转换率</th>\n",
       "    </tr>\n",
       "  </thead>\n",
       "  <tbody>\n",
       "    <tr>\n",
       "      <th>0</th>\n",
       "      <td>1</td>\n",
       "      <td>8.0</td>\n",
       "    </tr>\n",
       "    <tr>\n",
       "      <th>1</th>\n",
       "      <td>2</td>\n",
       "      <td>25.0</td>\n",
       "    </tr>\n",
       "    <tr>\n",
       "      <th>2</th>\n",
       "      <td>3</td>\n",
       "      <td>31.0</td>\n",
       "    </tr>\n",
       "    <tr>\n",
       "      <th>3</th>\n",
       "      <td>4</td>\n",
       "      <td>32.0</td>\n",
       "    </tr>\n",
       "    <tr>\n",
       "      <th>4</th>\n",
       "      <td>5</td>\n",
       "      <td>29.0</td>\n",
       "    </tr>\n",
       "    <tr>\n",
       "      <th>5</th>\n",
       "      <td>6</td>\n",
       "      <td>28.0</td>\n",
       "    </tr>\n",
       "    <tr>\n",
       "      <th>6</th>\n",
       "      <td>7</td>\n",
       "      <td>31.0</td>\n",
       "    </tr>\n",
       "  </tbody>\n",
       "</table>\n",
       "</div>"
      ],
      "text/plain": [
       "   触达次数   转换率\n",
       "0     1   8.0\n",
       "1     2  25.0\n",
       "2     3  31.0\n",
       "3     4  32.0\n",
       "4     5  29.0\n",
       "5     6  28.0\n",
       "6     7  31.0"
      ]
     },
     "execution_count": 51,
     "metadata": {},
     "output_type": "execute_result"
    }
   ],
   "source": [
    "rate_df[\"转换率\"] = rate_df[\"转换率\"].round(decimals= 3)*1000\n",
    "rate_df"
   ]
  },
  {
   "cell_type": "code",
   "execution_count": 53,
   "metadata": {
    "collapsed": true
   },
   "outputs": [
    {
     "data": {
      "text/html": [
       "<div>\n",
       "<style scoped>\n",
       "    .dataframe tbody tr th:only-of-type {\n",
       "        vertical-align: middle;\n",
       "    }\n",
       "\n",
       "    .dataframe tbody tr th {\n",
       "        vertical-align: top;\n",
       "    }\n",
       "\n",
       "    .dataframe thead th {\n",
       "        text-align: right;\n",
       "    }\n",
       "</style>\n",
       "<table border=\"1\" class=\"dataframe\">\n",
       "  <thead>\n",
       "    <tr style=\"text-align: right;\">\n",
       "      <th></th>\n",
       "      <th>营销触达用户清单</th>\n",
       "      <th>营销转化用户清单</th>\n",
       "    </tr>\n",
       "    <tr>\n",
       "      <th>day</th>\n",
       "      <th></th>\n",
       "      <th></th>\n",
       "    </tr>\n",
       "  </thead>\n",
       "  <tbody>\n",
       "    <tr>\n",
       "      <th>1</th>\n",
       "      <td>48671</td>\n",
       "      <td>477</td>\n",
       "    </tr>\n",
       "    <tr>\n",
       "      <th>2</th>\n",
       "      <td>74179</td>\n",
       "      <td>686</td>\n",
       "    </tr>\n",
       "    <tr>\n",
       "      <th>3</th>\n",
       "      <td>77323</td>\n",
       "      <td>699</td>\n",
       "    </tr>\n",
       "    <tr>\n",
       "      <th>4</th>\n",
       "      <td>77409</td>\n",
       "      <td>656</td>\n",
       "    </tr>\n",
       "    <tr>\n",
       "      <th>5</th>\n",
       "      <td>68946</td>\n",
       "      <td>463</td>\n",
       "    </tr>\n",
       "    <tr>\n",
       "      <th>6</th>\n",
       "      <td>86954</td>\n",
       "      <td>559</td>\n",
       "    </tr>\n",
       "    <tr>\n",
       "      <th>7</th>\n",
       "      <td>88337</td>\n",
       "      <td>574</td>\n",
       "    </tr>\n",
       "  </tbody>\n",
       "</table>\n",
       "</div>"
      ],
      "text/plain": [
       "     营销触达用户清单  营销转化用户清单\n",
       "day                    \n",
       "1       48671       477\n",
       "2       74179       686\n",
       "3       77323       699\n",
       "4       77409       656\n",
       "5       68946       463\n",
       "6       86954       559\n",
       "7       88337       574"
      ]
     },
     "execution_count": 53,
     "metadata": {},
     "output_type": "execute_result"
    }
   ],
   "source": [
    "res = ddf.groupby(by = \"day\").count()\n",
    "res"
   ]
  },
  {
   "cell_type": "code",
   "execution_count": 54,
   "metadata": {},
   "outputs": [],
   "source": [
    "res[\"转换率\"]  =  res[\"营销转化用户清单\"] / res[\"营销触达用户清单\"] *1000"
   ]
  },
  {
   "cell_type": "code",
   "execution_count": 55,
   "metadata": {},
   "outputs": [],
   "source": [
    "res[\"转换率\"] = res[\"转换率\"].round(decimals= 2)"
   ]
  },
  {
   "cell_type": "code",
   "execution_count": 56,
   "metadata": {},
   "outputs": [
    {
     "data": {
      "text/html": [
       "<div>\n",
       "<style scoped>\n",
       "    .dataframe tbody tr th:only-of-type {\n",
       "        vertical-align: middle;\n",
       "    }\n",
       "\n",
       "    .dataframe tbody tr th {\n",
       "        vertical-align: top;\n",
       "    }\n",
       "\n",
       "    .dataframe thead th {\n",
       "        text-align: right;\n",
       "    }\n",
       "</style>\n",
       "<table border=\"1\" class=\"dataframe\">\n",
       "  <thead>\n",
       "    <tr style=\"text-align: right;\">\n",
       "      <th></th>\n",
       "      <th>营销触达用户清单</th>\n",
       "      <th>营销转化用户清单</th>\n",
       "      <th>转换率</th>\n",
       "    </tr>\n",
       "    <tr>\n",
       "      <th>day</th>\n",
       "      <th></th>\n",
       "      <th></th>\n",
       "      <th></th>\n",
       "    </tr>\n",
       "  </thead>\n",
       "  <tbody>\n",
       "    <tr>\n",
       "      <th>1</th>\n",
       "      <td>48671</td>\n",
       "      <td>477</td>\n",
       "      <td>9.80</td>\n",
       "    </tr>\n",
       "    <tr>\n",
       "      <th>2</th>\n",
       "      <td>74179</td>\n",
       "      <td>686</td>\n",
       "      <td>9.25</td>\n",
       "    </tr>\n",
       "    <tr>\n",
       "      <th>3</th>\n",
       "      <td>77323</td>\n",
       "      <td>699</td>\n",
       "      <td>9.04</td>\n",
       "    </tr>\n",
       "    <tr>\n",
       "      <th>4</th>\n",
       "      <td>77409</td>\n",
       "      <td>656</td>\n",
       "      <td>8.47</td>\n",
       "    </tr>\n",
       "    <tr>\n",
       "      <th>5</th>\n",
       "      <td>68946</td>\n",
       "      <td>463</td>\n",
       "      <td>6.72</td>\n",
       "    </tr>\n",
       "    <tr>\n",
       "      <th>6</th>\n",
       "      <td>86954</td>\n",
       "      <td>559</td>\n",
       "      <td>6.43</td>\n",
       "    </tr>\n",
       "    <tr>\n",
       "      <th>7</th>\n",
       "      <td>88337</td>\n",
       "      <td>574</td>\n",
       "      <td>6.50</td>\n",
       "    </tr>\n",
       "  </tbody>\n",
       "</table>\n",
       "</div>"
      ],
      "text/plain": [
       "     营销触达用户清单  营销转化用户清单   转换率\n",
       "day                          \n",
       "1       48671       477  9.80\n",
       "2       74179       686  9.25\n",
       "3       77323       699  9.04\n",
       "4       77409       656  8.47\n",
       "5       68946       463  6.72\n",
       "6       86954       559  6.43\n",
       "7       88337       574  6.50"
      ]
     },
     "execution_count": 56,
     "metadata": {},
     "output_type": "execute_result"
    }
   ],
   "source": [
    "res"
   ]
  },
  {
   "cell_type": "code",
   "execution_count": 57,
   "metadata": {
    "collapsed": true
   },
   "outputs": [
    {
     "data": {
      "text/html": [
       "<div>\n",
       "<style scoped>\n",
       "    .dataframe tbody tr th:only-of-type {\n",
       "        vertical-align: middle;\n",
       "    }\n",
       "\n",
       "    .dataframe tbody tr th {\n",
       "        vertical-align: top;\n",
       "    }\n",
       "\n",
       "    .dataframe thead th {\n",
       "        text-align: right;\n",
       "    }\n",
       "</style>\n",
       "<table border=\"1\" class=\"dataframe\">\n",
       "  <thead>\n",
       "    <tr style=\"text-align: right;\">\n",
       "      <th></th>\n",
       "      <th>触达次数</th>\n",
       "      <th>转换率</th>\n",
       "    </tr>\n",
       "  </thead>\n",
       "  <tbody>\n",
       "    <tr>\n",
       "      <th>0</th>\n",
       "      <td>1</td>\n",
       "      <td>8.0</td>\n",
       "    </tr>\n",
       "    <tr>\n",
       "      <th>1</th>\n",
       "      <td>2</td>\n",
       "      <td>25.0</td>\n",
       "    </tr>\n",
       "    <tr>\n",
       "      <th>2</th>\n",
       "      <td>3</td>\n",
       "      <td>31.0</td>\n",
       "    </tr>\n",
       "    <tr>\n",
       "      <th>3</th>\n",
       "      <td>4</td>\n",
       "      <td>32.0</td>\n",
       "    </tr>\n",
       "    <tr>\n",
       "      <th>4</th>\n",
       "      <td>5</td>\n",
       "      <td>29.0</td>\n",
       "    </tr>\n",
       "    <tr>\n",
       "      <th>5</th>\n",
       "      <td>6</td>\n",
       "      <td>28.0</td>\n",
       "    </tr>\n",
       "    <tr>\n",
       "      <th>6</th>\n",
       "      <td>7</td>\n",
       "      <td>31.0</td>\n",
       "    </tr>\n",
       "  </tbody>\n",
       "</table>\n",
       "</div>"
      ],
      "text/plain": [
       "   触达次数   转换率\n",
       "0     1   8.0\n",
       "1     2  25.0\n",
       "2     3  31.0\n",
       "3     4  32.0\n",
       "4     5  29.0\n",
       "5     6  28.0\n",
       "6     7  31.0"
      ]
     },
     "execution_count": 57,
     "metadata": {},
     "output_type": "execute_result"
    }
   ],
   "source": [
    "rate_df"
   ]
  },
  {
   "cell_type": "code",
   "execution_count": 58,
   "metadata": {},
   "outputs": [],
   "source": [
    "rate_df.columns =[\"触达次数\",\"转换率/‰\"] "
   ]
  },
  {
   "cell_type": "code",
   "execution_count": 59,
   "metadata": {},
   "outputs": [
    {
     "data": {
      "text/html": [
       "<div>\n",
       "<style scoped>\n",
       "    .dataframe tbody tr th:only-of-type {\n",
       "        vertical-align: middle;\n",
       "    }\n",
       "\n",
       "    .dataframe tbody tr th {\n",
       "        vertical-align: top;\n",
       "    }\n",
       "\n",
       "    .dataframe thead th {\n",
       "        text-align: right;\n",
       "    }\n",
       "</style>\n",
       "<table border=\"1\" class=\"dataframe\">\n",
       "  <thead>\n",
       "    <tr style=\"text-align: right;\">\n",
       "      <th></th>\n",
       "      <th>触达次数</th>\n",
       "      <th>转换率/‰</th>\n",
       "    </tr>\n",
       "  </thead>\n",
       "  <tbody>\n",
       "    <tr>\n",
       "      <th>0</th>\n",
       "      <td>1</td>\n",
       "      <td>8.0</td>\n",
       "    </tr>\n",
       "    <tr>\n",
       "      <th>1</th>\n",
       "      <td>2</td>\n",
       "      <td>25.0</td>\n",
       "    </tr>\n",
       "    <tr>\n",
       "      <th>2</th>\n",
       "      <td>3</td>\n",
       "      <td>31.0</td>\n",
       "    </tr>\n",
       "    <tr>\n",
       "      <th>3</th>\n",
       "      <td>4</td>\n",
       "      <td>32.0</td>\n",
       "    </tr>\n",
       "    <tr>\n",
       "      <th>4</th>\n",
       "      <td>5</td>\n",
       "      <td>29.0</td>\n",
       "    </tr>\n",
       "    <tr>\n",
       "      <th>5</th>\n",
       "      <td>6</td>\n",
       "      <td>28.0</td>\n",
       "    </tr>\n",
       "    <tr>\n",
       "      <th>6</th>\n",
       "      <td>7</td>\n",
       "      <td>31.0</td>\n",
       "    </tr>\n",
       "  </tbody>\n",
       "</table>\n",
       "</div>"
      ],
      "text/plain": [
       "   触达次数  转换率/‰\n",
       "0     1    8.0\n",
       "1     2   25.0\n",
       "2     3   31.0\n",
       "3     4   32.0\n",
       "4     5   29.0\n",
       "5     6   28.0\n",
       "6     7   31.0"
      ]
     },
     "execution_count": 59,
     "metadata": {},
     "output_type": "execute_result"
    }
   ],
   "source": [
    "rate_df"
   ]
  },
  {
   "cell_type": "code",
   "execution_count": 75,
   "metadata": {},
   "outputs": [],
   "source": [
    "import matplotlib.pyplot as plt\n",
    "import matplotlib.style as style\n",
    "import matplotlib.ticker as ticker"
   ]
  },
  {
   "cell_type": "code",
   "execution_count": 85,
   "metadata": {},
   "outputs": [],
   "source": [
    "style.use(\"seaborn\")\n",
    "plt.rcParams[\"figure.figsize\"] = (10,8)\n",
    "plt.rc(\"font\",family = [\"SimHei\"],size = 12)\n",
    "plt.rcParams[\"axes.unicode_minus\"] = False\n",
    "plt.rcParams[\"figure.dpi\"] = 80"
   ]
  },
  {
   "cell_type": "code",
   "execution_count": 112,
   "metadata": {},
   "outputs": [],
   "source": [
    "y1 = res[\"营销触达用户清单\"]\n",
    "y2 = res[\"营销转化用户清单\"]\n",
    "y3 = res[\"转换率\"]\n",
    "x = np.arange(len(res.index)) + 1\n",
    "width  = 0.25"
   ]
  },
  {
   "cell_type": "code",
   "execution_count": 129,
   "metadata": {},
   "outputs": [
    {
     "data": {
      "image/png": "[encoded data removed]",
      "text/plain": [
       "<Figure size 800x640 with 2 Axes>"
      ]
     },
     "metadata": {},
     "output_type": "display_data"
    }
   ],
   "source": [
    "figs = plt.figure()\n",
    "ax1.grid(axis=\"y\")\n",
    "# plt.grid(b= True, axis=\"y\")\n",
    "ax1 = figs.add_subplot(111)\n",
    "ax1.bar(x,y1,width = width ,label =\"营销触达用户人数\",color = \"orange\")\n",
    "ax1.bar(x + width,y2,width = width , label = \"营销转化用户人数\",color = \"pink\")\n",
    "ax1.legend()\n",
    "ax2 = ax1.twinx()\n",
    "ax2.grid(axis = \"y\")\n",
    "ax2.plot(x , y3 , color = \"r\")\n",
    "ax1.set_ylabel(\"用户数量/人\")\n",
    "ax2.set_ylabel(\"用户转换率/‰\")\n",
    "ax2.set_ylim(0,10)\n",
    "yticks = ticker.FormatStrFormatter(\"%.2f%%\")\n",
    "ax2.yaxis.set_major_formatter(yticks)\n",
    "for a,b in zip(x,y3):\n",
    "    plt.text(a,b, format(b,\".2f\")+ \"‰\")"
   ]
  },
  {
   "cell_type": "code",
   "execution_count": 127,
   "metadata": {},
   "outputs": [
    {
     "data": {
      "image/png": "[encoded data removed]",
      "text/plain": [
       "<Figure size 800x640 with 1 Axes>"
      ]
     },
     "metadata": {},
     "output_type": "display_data"
    }
   ],
   "source": [
    "style.use(\"seaborn\")\n",
    "plt.rcParams[\"figure.figsize\"] = (10,8)\n",
    "plt.rc(\"font\",family = [\"SimHei\"],size = 12)\n",
    "plt.rcParams[\"axes.unicode_minus\"] = False\n",
    "plt.rcParams[\"figure.dpi\"] = 80\n",
    "x = rate_df[\"触达次数\"]\n",
    "y = rate_df[\"转换率/‰\"]\n",
    "plt.plot(x , y , color = \"b\")\n",
    "plt.xlabel(\"广告投放次数\",loc = \"right\")\n",
    "plt.ylabel(\"投放转换率‰\",loc=\"top\")\n",
    "for a,b  in zip(x,y):\n",
    "    plt.text(a,b , format(b,\".0f\")+ \"‰\")"
   ]
  }
 ],
 "metadata": {
  "kernelspec": {
   "display_name": "Python 3",
   "language": "python",
   "name": "python3"
  },
  "language_info": {
   "codemirror_mode": {
    "name": "ipython",
    "version": 3
   },
   "file_extension": ".py",
   "mimetype": "text/x-python",
   "name": "python",
   "nbconvert_exporter": "python",
   "pygments_lexer": "ipython3",
   "version": "3.7.4"
  },
  "toc": {
   "base_numbering": 1,
   "nav_menu": {},
   "number_sections": true,
   "sideBar": true,
   "skip_h1_title": false,
   "title_cell": "Table of Contents",
   "title_sidebar": "Contents",
   "toc_cell": false,
   "toc_position": {},
   "toc_section_display": true,
   "toc_window_display": false
  }
 },
 "nbformat": 4,
 "nbformat_minor": 2
}
